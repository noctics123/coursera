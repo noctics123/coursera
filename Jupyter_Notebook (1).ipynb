{
 "cells": [
  {
   "cell_type": "markdown",
   "metadata": {},
   "source": [
    "<center>\n",
    "    <img src=\"https://cf-courses-data.s3.us.cloud-object-storage.appdomain.cloud/IBMDeveloperSkillsNetwork-DS0105EN-SkillsNetwork/labs/Module2/images/SN_web_lightmode.png\" width=\"300\" alt=\"cognitiveclass.ai logo\">\n",
    "</center>\n"
   ]
  },
  {
   "cell_type": "markdown",
   "metadata": {},
   "source": [
    "#### Add your code below following the instructions given in the course\n"
   ]
  },
  {
   "cell_type": "markdown",
   "metadata": {
    "tags": []
   },
   "source": [
    "# 2-title"
   ]
  },
  {
   "cell_type": "markdown",
   "metadata": {},
   "source": [
    "# Introduction\n",
    "\n",
    "Welcome to this notebook! In this notebook, we will be exploring various topics related to data analysis and visualization. We will be using Python and various libraries such as Pandas, Matplotlib, and Seaborn to analyze and visualize different datasets.\n",
    "\n",
    "Throughout this notebook, we will cover the basics of data analysis and visualization, including data cleaning, data manipulation, and data visualization techniques. By the end of this notebook, you will have a good understanding of how to perform data analysis and visualization using Python.\n",
    "\n",
    "Let's get started!"
   ]
  },
  {
   "cell_type": "markdown",
   "metadata": {
    "tags": []
   },
   "source": [
    "## Data Science Languages\n",
    "\n",
    "- Python\n",
    "- R\n",
    "- SQL\n",
    "- Julia\n",
    "- MATLAB"
   ]
  },
  {
   "cell_type": "markdown",
   "metadata": {},
   "source": [
    "## Data Science Libraries\n",
    "\n",
    "- NumPy\n",
    "- Pandas\n",
    "- Matplotlib\n",
    "- Seaborn\n",
    "- Scikit-learn\n",
    "- TensorFlow\n",
    "- Keras\n",
    "- PyTorch\n",
    "- NLTK\n",
    "- BeautifulSoup\n",
    "- Plotly"
   ]
  },
  {
   "cell_type": "markdown",
   "metadata": {},
   "source": [
    "| Tool Name | Description | Language |\n",
    "| --- | --- | --- |\n",
    "| Jupyter Notebook | Web-based interactive computational environment | Python |\n",
    "| RStudio | Integrated development environment (IDE) for R | R |\n",
    "| Tableau | Business intelligence and analytics software | n/a |\n",
    "| TensorFlow | Open-source software library for dataflow and differentiable programming | Python |\n",
    "| Scikit-learn | Machine learning library for Python | Python |\n",
    "| NumPy | Library for working with arrays | Python |\n",
    "| Pandas | Data manipulation and analysis library | Python |\n"
   ]
  },
  {
   "cell_type": "markdown",
   "metadata": {},
   "source": [
    "# Arithmetic Expressions\n",
    "\n",
    "Arithmetic expressions are fundamental in programming and data science. They are used to perform mathematical operations such as addition, subtraction, multiplication, and division. Here are some examples of arithmetic expressions:\n",
    "\n",
    "| Expression      | Result |\n",
    "| ----------- | ----------- |\n",
    "| 2 + 3       | 5       |\n",
    "| 8 - 4   | 4        |\n",
    "| 5 * 7   | 35        |\n",
    "| 12 / 3   | 4        |\n",
    "\n",
    "In addition to these basic operations, you can also use other mathematical functions such as exponentiation, modulus, and floor division in your arithmetic expressions. These expressions are the building blocks of more complex computations and analyses.\n"
   ]
  },
  {
   "cell_type": "code",
   "execution_count": 2,
   "metadata": {
    "tags": []
   },
   "outputs": [
    {
     "name": "stdout",
     "output_type": "stream",
     "text": [
      "38\n"
     ]
    }
   ],
   "source": [
    "# Multiply two numbers and then add another number\n",
    "a = 5\n",
    "b = 7\n",
    "c = 3\n",
    "result = (a * b) + c\n",
    "print(result)\n"
   ]
  },
  {
   "cell_type": "code",
   "execution_count": 3,
   "metadata": {
    "tags": []
   },
   "outputs": [
    {
     "name": "stdout",
     "output_type": "stream",
     "text": [
      "120 minutes is equal to 2.0 hours\n"
     ]
    }
   ],
   "source": [
    "# Assign minutes to a variable\n",
    "minutes = 120\n",
    "\n",
    "# Convert minutes to hours\n",
    "hours = minutes / 60\n",
    "\n",
    "# Print the result\n",
    "print(\"120 minutes is equal to\", hours, \"hours\")\n"
   ]
  },
  {
   "cell_type": "markdown",
   "metadata": {
    "tags": []
   },
   "source": [
    "## Objectives\n",
    "- Learn about data science languages\n",
    "- Explore data science libraries\n",
    "- Understand version control with Git and GitHub\n",
    "- Practice creating visualizations and performing data analysis in R\n",
    "- Gain experience with machine learning algorithms"
   ]
  },
  {
   "cell_type": "markdown",
   "metadata": {},
   "source": [
    "# Author: Ruben Quispe"
   ]
  },
  {
   "cell_type": "code",
   "execution_count": null,
   "metadata": {},
   "outputs": [],
   "source": []
  }
 ],
 "metadata": {
  "kernelspec": {
   "display_name": "Python",
   "language": "python",
   "name": "conda-env-python-py"
  },
  "language_info": {
   "codemirror_mode": {
    "name": "ipython",
    "version": 3
   },
   "file_extension": ".py",
   "mimetype": "text/x-python",
   "name": "python",
   "nbconvert_exporter": "python",
   "pygments_lexer": "ipython3",
   "version": "3.7.12"
  }
 },
 "nbformat": 4,
 "nbformat_minor": 4
}
